{
 "cells": [
  {
   "cell_type": "code",
   "execution_count": null,
   "id": "f6e47304",
   "metadata": {},
   "outputs": [],
   "source": [
    "# 📌 Import Required Libraries\n",
    "import pandas as pd\n",
    "import numpy as np\n",
    "import matplotlib.pyplot as plt\n",
    "from sklearn.model_selection import train_test_split, RandomizedSearchCV\n",
    "from sklearn.preprocessing import LabelEncoder, StandardScaler\n",
    "from sklearn.metrics import mean_squared_error, r2_score\n",
    "from xgboost import XGBRegressor"
   ]
  },
  {
   "cell_type": "code",
   "execution_count": null,
   "id": "cb049507",
   "metadata": {},
   "outputs": [],
   "source": [
    "# 📌 Load the Dataset\n",
    "file_path = \"C:/Users/Dell/Desktop/classificationml/dataset_excavate.xlsx - Sheet 1.csv\"\n",
    "data = pd.read_csv(file_path)"
   ]
  },
  {
   "cell_type": "code",
   "execution_count": null,
   "id": "947c2bcb",
   "metadata": {},
   "outputs": [],
   "source": [
    "# 📌 Step 1: Data Cleaning - Remove missing values\n",
    "data = data.dropna()"
   ]
  },
  {
   "cell_type": "code",
   "execution_count": null,
   "id": "cafa571d",
   "metadata": {},
   "outputs": [],
   "source": [
    "# 📌 Step 2: Filter Only Insulators (Eg > 0.5 eV)\n",
    "data = data[data[\"PBE band gap\"] > 0.5]  # Keep only insulators"
   ]
  },
  {
   "cell_type": "code",
   "execution_count": null,
   "id": "3ec14466",
   "metadata": {},
   "outputs": [],
   "source": [
    "# 📌 Step 3: Encode Categorical Features\n",
    "categorical_columns = [\"functional group\", \"A\", \"A'\", \"Bi\", \"B'\"]\n",
    "label_encoders = {}"
   ]
  },
  {
   "cell_type": "code",
   "execution_count": null,
   "id": "56fa71d3",
   "metadata": {},
   "outputs": [],
   "source": [
    "for col in categorical_columns:\n",
    "    le = LabelEncoder()\n",
    "    data[col] = le.fit_transform(data[col])\n",
    "    label_encoders[col] = le  # Store encoders for later use"
   ]
  },
  {
   "cell_type": "code",
   "execution_count": null,
   "id": "162a5662",
   "metadata": {},
   "outputs": [],
   "source": [
    "# 📌 Step 4: Define Inputs (X) & Output (Y) for Regression\n",
    "X = data.drop(columns=[\"PBE band gap\"])  # Features\n",
    "y = data[\"PBE band gap\"]  # Target variable (Band Gap in eV)"
   ]
  },
  {
   "cell_type": "code",
   "execution_count": null,
   "id": "43ed6376",
   "metadata": {},
   "outputs": [],
   "source": [
    "# 📌 Step 5: Split Data into Training (80%) & Testing (20%)\n",
    "X_train, X_test, y_train, y_test = train_test_split(X, y, test_size=0.2, random_state=42)"
   ]
  },
  {
   "cell_type": "code",
   "execution_count": null,
   "id": "947202d4",
   "metadata": {},
   "outputs": [],
   "source": [
    "# 📌 Step 6: Normalize Numerical Features\n",
    "scaler = StandardScaler()\n",
    "numerical_columns = [col for col in X.columns if col not in categorical_columns]"
   ]
  },
  {
   "cell_type": "code",
   "execution_count": null,
   "id": "6cca4d93",
   "metadata": {},
   "outputs": [],
   "source": [
    "# Apply StandardScaler\n",
    "X_train[numerical_columns] = scaler.fit_transform(X_train[numerical_columns])\n",
    "X_test[numerical_columns] = scaler.transform(X_test[numerical_columns])"
   ]
  },
  {
   "cell_type": "code",
   "execution_count": null,
   "id": "971bf37d",
   "metadata": {},
   "outputs": [],
   "source": [
    "# 📌 Step 7: Hyperparameter Tuning for XGBRegressor\n",
    "param_grid = {\n",
    "    'n_estimators': [100, 200, 300],\n",
    "    'max_depth': [5, 10, 15],\n",
    "    'learning_rate': [0.01, 0.05, 0.1],\n",
    "    'subsample': [0.7, 0.8, 0.9],\n",
    "    'colsample_bytree': [0.7, 0.8, 1.0]\n",
    "}"
   ]
  },
  {
   "cell_type": "code",
   "execution_count": null,
   "id": "b43ab70f",
   "metadata": {},
   "outputs": [],
   "source": [
    "random_search = RandomizedSearchCV(XGBRegressor(random_state=42),\n",
    "                                   param_distributions=param_grid,\n",
    "                                   n_iter=10, cv=5, scoring='neg_mean_squared_error', n_jobs=-1)\n",
    "random_search.fit(X_train, y_train)"
   ]
  },
  {
   "cell_type": "code",
   "execution_count": null,
   "id": "2803ce49",
   "metadata": {},
   "outputs": [],
   "source": [
    "# 📌 Step 8: Train the Best Model\n",
    "regressor = random_search.best_estimator_\n",
    "print(\"🔹 Best Hyperparameters:\", random_search.best_params_)"
   ]
  },
  {
   "cell_type": "code",
   "execution_count": null,
   "id": "8cc41972",
   "metadata": {},
   "outputs": [],
   "source": [
    "# 📌 Step 9: Make Predictions\n",
    "y_pred = regressor.predict(X_test)"
   ]
  },
  {
   "cell_type": "code",
   "execution_count": null,
   "id": "258c058f",
   "metadata": {},
   "outputs": [],
   "source": [
    "# 📌 Step 10: Evaluate Model Performance\n",
    "mse = mean_squared_error(y_test, y_pred)\n",
    "r2 = r2_score(y_test, y_pred)"
   ]
  },
  {
   "cell_type": "code",
   "execution_count": null,
   "id": "170779a9",
   "metadata": {},
   "outputs": [],
   "source": [
    "print(f\"\\n🔹 Model Mean Squared Error (MSE): {mse:.4f}\")\n",
    "print(f\"🔹 Model R² Score: {r2:.4f} (Higher is better, max = 1)\")"
   ]
  },
  {
   "cell_type": "code",
   "execution_count": null,
   "id": "a677a2a3",
   "metadata": {
    "lines_to_next_cell": 1
   },
   "outputs": [],
   "source": [
    "# 📌 Step 11: Scatter Plot of Actual vs. Predicted Values\n",
    "plt.figure(figsize=(8, 6))\n",
    "plt.scatter(y_test, y_pred, color=\"blue\", alpha=0.5)\n",
    "plt.plot([min(y_test), max(y_test)], [min(y_test), max(y_test)], color=\"red\", linestyle=\"--\")  # Perfect predictions line\n",
    "plt.xlabel(\"Actual Band Gap (eV)\")\n",
    "plt.ylabel(\"Predicted Band Gap (eV)\")\n",
    "plt.title(\"Actual vs. Predicted Band Gap\")\n",
    "plt.show()"
   ]
  },
  {
   "cell_type": "code",
   "execution_count": null,
   "id": "a378f93a",
   "metadata": {
    "lines_to_next_cell": 1
   },
   "outputs": [],
   "source": [
    "# ------------------------ USER INPUT REGRESSION ------------------------ #\n",
    "def predict_band_gap():\n",
    "    print(\"\\n🔹 Enter Material Properties to Predict Band Gap (Eg in eV):\")\n",
    "\n",
    "    user_data = {}\n",
    "\n",
    "    # Get input for categorical features\n",
    "    for col in categorical_columns:\n",
    "        user_value = input(f\"Enter value for {col}: \").strip().title()  # Convert to Title Case\n",
    "\n",
    "        if user_value in label_encoders[col].classes_:\n",
    "            user_data[col] = label_encoders[col].transform([user_value])[0]\n",
    "        else:\n",
    "            print(f\"⚠️ Warning: {user_value} is not in the dataset. Assigning most common category.\")\n",
    "            common_category = data[col].mode()[0]\n",
    "\n",
    "            # 🔥 Fix: Add the common category to label encoder\n",
    "            if common_category not in label_encoders[col].classes_:\n",
    "                label_encoders[col].classes_ = np.append(label_encoders[col].classes_, common_category)\n",
    "\n",
    "            user_data[col] = label_encoders[col].transform([common_category])[0]\n",
    "\n",
    "    # Get input for numerical features\n",
    "    for col in numerical_columns:\n",
    "        user_data[col] = float(input(f\"Enter value for {col}: \"))\n",
    "\n",
    "    # Convert user input to DataFrame\n",
    "    user_df = pd.DataFrame([user_data])\n",
    "\n",
    "    # Ensure column order matches training data\n",
    "    user_df = user_df.reindex(columns=X.columns, fill_value=0)\n",
    "\n",
    "    # Normalize numerical values\n",
    "    user_df[numerical_columns] = scaler.transform(user_df[numerical_columns])\n",
    "\n",
    "    # Predict\n",
    "    prediction = regressor.predict(user_df)[0]\n",
    "    print(f\"\\n🔹 Predicted Band Gap (Eg): **{prediction:.4f} eV**\")"
   ]
  },
  {
   "cell_type": "code",
   "execution_count": null,
   "id": "1bc333a8",
   "metadata": {},
   "outputs": [],
   "source": [
    "# Run user input function\n",
    "predict_band_gap()"
   ]
  }
 ],
 "metadata": {
  "jupytext": {
   "cell_metadata_filter": "-all",
   "main_language": "python",
   "notebook_metadata_filter": "-all"
  }
 },
 "nbformat": 4,
 "nbformat_minor": 5
}
