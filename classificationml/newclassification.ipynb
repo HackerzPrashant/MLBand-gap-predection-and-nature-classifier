{
 "cells": [
  {
   "cell_type": "code",
   "execution_count": null,
   "id": "1f872abe",
   "metadata": {},
   "outputs": [],
   "source": [
    "# Import Required Libraries\n",
    "import pandas as pd\n",
    "import numpy as np\n",
    "import random\n",
    "import matplotlib.pyplot as plt\n",
    "from sklearn.model_selection import train_test_split\n",
    "from sklearn.preprocessing import LabelEncoder, StandardScaler\n",
    "from sklearn.metrics import accuracy_score, classification_report\n",
    "from xgboost import XGBClassifier\n",
    "from imblearn.over_sampling import SMOTE"
   ]
  },
  {
   "cell_type": "code",
   "execution_count": null,
   "id": "e03262b1",
   "metadata": {},
   "outputs": [],
   "source": [
    "# Load the Dataset\n",
    "file_path = \"C:/Users/Dell/Desktop/classificationml/dataset_excavate.xlsx - Sheet 1.csv\"\n",
    "data = pd.read_csv(file_path)"
   ]
  },
  {
   "cell_type": "code",
   "execution_count": null,
   "id": "3cfb6915",
   "metadata": {},
   "outputs": [],
   "source": [
    "# Step 1: Data Cleaning - Remove any missing values\n",
    "data = data.dropna()"
   ]
  },
  {
   "cell_type": "code",
   "execution_count": null,
   "id": "9bca7c96",
   "metadata": {},
   "outputs": [],
   "source": [
    "#  Step 2: Encode Categorical Features\n",
    "categorical_columns = [\"functional group\", \"A\", \"A'\", \"Bi\", \"B'\"]\n",
    "label_encoders = {}"
   ]
  },
  {
   "cell_type": "code",
   "execution_count": null,
   "id": "39cb64b8",
   "metadata": {},
   "outputs": [],
   "source": [
    "for col in categorical_columns:\n",
    "    le = LabelEncoder()\n",
    "    data[col] = le.fit_transform(data[col])\n",
    "    label_encoders[col] = le  # Store encoders for later use"
   ]
  },
  {
   "cell_type": "code",
   "execution_count": null,
   "id": "ee2406e8",
   "metadata": {},
   "outputs": [],
   "source": [
    "# Step 3: Define Inputs (X) & Output (Y) for Classification\n",
    "X = data.drop(columns=[\"PBE band gap\"])  # Features\n",
    "y = (data[\"PBE band gap\"] >= 0.5).astype(int)  # Convert to binary (1 = Insulator, 0 = Non-Insulator)"
   ]
  },
  {
   "cell_type": "code",
   "execution_count": null,
   "id": "aa4cdf47",
   "metadata": {},
   "outputs": [],
   "source": [
    "# Step 4: Split Data into Training & Testing Sets (80%-20%)\n",
    "X_train, X_test, y_train, y_test = train_test_split(X, y, test_size=0.2, random_state=42)"
   ]
  },
  {
   "cell_type": "code",
   "execution_count": null,
   "id": "5218c86d",
   "metadata": {},
   "outputs": [],
   "source": [
    "#  Step 5: Handle Class Imbalance Using SMOTE (Only on training data)\n",
    "sm = SMOTE(random_state=42)\n",
    "X_train, y_train = sm.fit_resample(X_train, y_train)"
   ]
  },
  {
   "cell_type": "code",
   "execution_count": null,
   "id": "9f2c0c68",
   "metadata": {},
   "outputs": [],
   "source": [
    "# Step 6: Normalize Numerical Features\n",
    "scaler = StandardScaler()"
   ]
  },
  {
   "cell_type": "code",
   "execution_count": null,
   "id": "6a2f43e7",
   "metadata": {},
   "outputs": [],
   "source": [
    "# Get numerical columns (exclude categorical ones)\n",
    "numerical_columns = [col for col in X.columns if col not in categorical_columns]"
   ]
  },
  {
   "cell_type": "code",
   "execution_count": null,
   "id": "39a6cf41",
   "metadata": {},
   "outputs": [],
   "source": [
    "# Apply StandardScaler\n",
    "X_train[numerical_columns] = scaler.fit_transform(X_train[numerical_columns])\n",
    "X_test[numerical_columns] = scaler.transform(X_test[numerical_columns])"
   ]
  },
  {
   "cell_type": "code",
   "execution_count": null,
   "id": "684d7ef4",
   "metadata": {},
   "outputs": [],
   "source": [
    "# Step 7: Train XGBoost Classifier (Without Hyperparameter Tuning)\n",
    "clf = XGBClassifier(random_state=42)\n",
    "clf.fit(X_train, y_train)"
   ]
  },
  {
   "cell_type": "code",
   "execution_count": null,
   "id": "77427d3a",
   "metadata": {},
   "outputs": [],
   "source": [
    "# Step 8: Make Predictions\n",
    "y_pred = clf.predict(X_test)"
   ]
  },
  {
   "cell_type": "code",
   "execution_count": null,
   "id": "eb1048b8",
   "metadata": {},
   "outputs": [],
   "source": [
    "# Step 9: Evaluate Model Performance\n",
    "accuracy = accuracy_score(y_test, y_pred)\n",
    "print(f\"\\n🔹 Model Accuracy: {accuracy:.2f}\")\n",
    "print(\"\\n🔹 Classification Report:\\n\", classification_report(y_test, y_pred))"
   ]
  },
  {
   "cell_type": "code",
   "execution_count": null,
   "id": "ce4a6309",
   "metadata": {},
   "outputs": [],
   "source": [
    "# Step 10: Feature Importance Analysis (Using Matplotlib)\n",
    "feature_importances = pd.Series(clf.feature_importances_, index=X.columns)"
   ]
  },
  {
   "cell_type": "code",
   "execution_count": null,
   "id": "90b00bbc",
   "metadata": {
    "lines_to_next_cell": 1
   },
   "outputs": [],
   "source": [
    "# Plot Top 15 Features Using Matplotlib Only\n",
    "plt.figure(figsize=(10, 6))\n",
    "top_features = feature_importances.nlargest(15)\n",
    "plt.barh(top_features.index, top_features.values, color=\"blue\")\n",
    "plt.xlabel(\"Feature Importance Score\")\n",
    "plt.ylabel(\"Features\")\n",
    "plt.title(\"Top 15 Important Features\")\n",
    "plt.gca().invert_yaxis()  # Invert Y-axis to show highest feature importance at the top\n",
    "plt.show()"
   ]
  },
  {
   "cell_type": "code",
   "execution_count": null,
   "id": "d4c1a976",
   "metadata": {
    "lines_to_next_cell": 1
   },
   "outputs": [],
   "source": [
    "# ------------------------ USER INPUT CLASSIFICATION ------------------------ #\n",
    "def classify_material():\n",
    "    print(\"\\n🔹 Enter Material Properties to Predict Insulator or Non-Insulator:\")\n",
    "\n",
    "    # Take user input for categorical features\n",
    "    user_data = {}\n",
    "    for col in categorical_columns:\n",
    "        user_value = input(f\"Enter value for {col}: \")\n",
    "\n",
    "        # If the value is in training data, encode it\n",
    "        if user_value in label_encoders[col].classes_:\n",
    "            user_data[col] = label_encoders[col].transform([user_value])[0]\n",
    "        else:\n",
    "            # Assign a new category index for unseen values\n",
    "            print(f\"⚠️ Warning: {user_value} is not in the dataset. Assigning it a new category.\")\n",
    "            user_data[col] = len(label_encoders[col].classes_)\n",
    "\n",
    "    # Take user input for numerical features\n",
    "    for col in numerical_columns:\n",
    "        user_data[col] = float(input(f\"Enter value for {col}: \"))\n",
    "\n",
    "    # Convert user input to DataFrame\n",
    "    user_df = pd.DataFrame([user_data])\n",
    "\n",
    "    # Ensure column order matches training data\n",
    "    user_df = user_df.reindex(columns=X.columns, fill_value=0)\n",
    "\n",
    "    # Normalize numerical values\n",
    "    user_df[numerical_columns] = scaler.transform(user_df[numerical_columns])\n",
    "\n",
    "    # Predict\n",
    "    prediction = clf.predict(user_df)[0]\n",
    "    result = \"Insulator\" if prediction == 1 else \"Non-Insulator\"\n",
    "    print(f\"\\n🔹 Prediction: The material is classified as **{result}**\")"
   ]
  },
  {
   "cell_type": "code",
   "execution_count": null,
   "id": "fc9c9fc9",
   "metadata": {},
   "outputs": [],
   "source": [
    "# Run user input function\n",
    "classify_material()"
   ]
  }
 ],
 "metadata": {
  "jupytext": {
   "cell_metadata_filter": "-all",
   "main_language": "python",
   "notebook_metadata_filter": "-all"
  },
  "language_info": {
   "name": "python"
  }
 },
 "nbformat": 4,
 "nbformat_minor": 5
}
